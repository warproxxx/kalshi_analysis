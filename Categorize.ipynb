{
 "cells": [
  {
   "cell_type": "code",
   "execution_count": 1,
   "id": "1a7f259a",
   "metadata": {},
   "outputs": [],
   "source": [
    "import pandas as pd"
   ]
  },
  {
   "cell_type": "code",
   "execution_count": 2,
   "id": "6ed13c56",
   "metadata": {},
   "outputs": [],
   "source": [
    "df = pd.read_csv('data/kalshi_trade_data_2025.csv')"
   ]
  },
  {
   "cell_type": "code",
   "execution_count": 3,
   "id": "d779af8b",
   "metadata": {},
   "outputs": [],
   "source": [
    "contract_wise = df.groupby('ticker_name').agg({'contracts_traded': 'sum', 'price': 'mean'})"
   ]
  },
  {
   "cell_type": "code",
   "execution_count": 4,
   "id": "2b49cecd",
   "metadata": {},
   "outputs": [],
   "source": [
    "contract_wise = contract_wise.sort_values('contracts_traded', ascending=False)"
   ]
  },
  {
   "cell_type": "code",
   "execution_count": 8,
   "id": "9c1415d2",
   "metadata": {},
   "outputs": [],
   "source": [
    "contract_wise = contract_wise.reset_index()"
   ]
  },
  {
   "cell_type": "code",
   "execution_count": 184,
   "id": "4bd0beea",
   "metadata": {},
   "outputs": [],
   "source": [
    "contract_wise['ticker_only'] = contract_wise['ticker_name'].apply(lambda x: x.split('-')[0])"
   ]
  },
  {
   "cell_type": "code",
   "execution_count": 409,
   "id": "40cb907c",
   "metadata": {},
   "outputs": [],
   "source": [
    "category = {\n",
    "    'KXNBA': 'Sports',\n",
    "    'KXMARMAD': 'Sports', \n",
    "    'KXMASTERS': 'Sports',\n",
    "    'KXWMENSINGLES': 'Sports',\n",
    "    'KXFEDDECISION': 'Macroeconomics',\n",
    "    'KXSB-25-KC': 'Sports',\n",
    "    'KXFOMEN': 'Sports',\n",
    "    'KXPGA': 'Sports',\n",
    "    'KXSB': 'Sports',\n",
    "    'OPEN': 'Sports',\n",
    "    'KXNHL': 'Sports',\n",
    "    'KXMAYOR': 'US Politics',\n",
    "    'WOMEN': 'Sports',\n",
    "    'KXUFC': 'Sports',\n",
    "    'KXCANADA': 'Global Politics',\n",
    "    'MATCH': 'Sports',\n",
    "    'GAME': 'Sports',\n",
    "    'KXWMARMAD': 'Sports',\n",
    "    'PRES-': 'US Politics',\n",
    "    'KXNATHAN': 'Sports',\n",
    "    'KXDNI': 'US Politics',\n",
    "    'LEAVEPOWELL': 'Macroeconomics',\n",
    "    'FED-': 'Macroeconomics',\n",
    "    'KXEPSTEIN-25': 'US Politics',\n",
    "    'DERBY-': 'Sports',\n",
    "    'KXEOCOUNTDAY': 'US Politics',\n",
    "    'TIKTOKBAN': 'US Politics',\n",
    "    'KXUEFACL': 'Sports',\n",
    "    'RECSSNBER': 'Macroeconomics',\n",
    "    'KXF1RACE': 'Sports',\n",
    "    'CANCOALITION': 'Global Politics',\n",
    "    'KXSEC': 'US Politics',\n",
    "    'KXCPI': 'Macroeconomics',\n",
    "    'KXAAAGASM': 'Macroeconomics',\n",
    "    'BIDEN': 'US Politics',\n",
    "    'EPSTEIN': 'US Politics',\n",
    "    'CANADA': 'Global Politics',\n",
    "    'KXNOBEL': 'Global Politics',\n",
    "    'CHAMP-': 'Sports',\n",
    "    'KXCEOASTRONOMER': 'Finance',\n",
    "    'SHUTDOWN': 'US Politics',\n",
    "    'RACE-': 'Sports',\n",
    "    'KXDEBT': 'Macroeconomics',\n",
    "    'ROMANIA': 'Global Politics',\n",
    "    'KXVOTERFK': 'US Politics',\n",
    "    'KXBTC': 'Crypto',\n",
    "    'KXRATE': 'Macroeconomics',\n",
    "    'KXNASDAQ': 'Finance',\n",
    "    'KXETH': 'Crypto',\n",
    "    'KXINX': 'Finance',\n",
    "    'KXDOGE': 'Crypto',\n",
    "    'KXHIGH': 'Temperature',\n",
    "    'KXSPOTIFY': 'Pop Culture',\n",
    "    'KXSHIB': 'Crypto',\n",
    "    'KXOSCAR': 'Pop Culture',\n",
    "    'KXTRUMPMENTION': 'US Politics',\n",
    "    'WEATHER': 'Weather',\n",
    "    'KXAPPRANK': 'Pop Culture',\n",
    "    'KXNETFLIX': 'Pop Culture',\n",
    "    'KXGRAMMY': 'Pop Culture',\n",
    "    'KXTSAW': 'TSA',\n",
    "    'TOUR-': 'Sports',\n",
    "    'POTUS': 'US Politics',\n",
    "    'KXRAIN': 'Weather',\n",
    "    'KXNFL': 'Sports',\n",
    "    'KXFED': 'Macroeconomics',\n",
    "    'ALBUM-': 'Pop Culture',\n",
    "    'SONG-': 'Pop Culture',\n",
    "    'TWEETS-': 'Pop Culture',\n",
    "    'KXATP': 'Sports',\n",
    "    'KXTORNADO': 'Weather',\n",
    "    'KXEURUSD': 'Forex',\n",
    "    'KXMLB': 'Sports',\n",
    "    'NCAAF': 'Sports',\n",
    "    'KXEARNINGSMENTION': 'Finance',\n",
    "    'KXMMMENTION': 'Sports',\n",
    "    'TRUMP': 'US Politics',\n",
    "    'BILATERAL': 'US Politics',\n",
    "    'KXGDP': \"Macroeconomics\",\n",
    "    'KXDJT': 'US Politics'\n",
    "}\n",
    "\n",
    "# Method 1: Using apply with a function\n",
    "def categorize_ticker(ticker_name):\n",
    "    for key in category.keys():\n",
    "        if key in str(ticker_name):\n",
    "            return category[key]\n",
    "    return 'Uncategorized'\n",
    "\n",
    "contract_wise['category'] = contract_wise['ticker_name'].apply(categorize_ticker)"
   ]
  },
  {
   "cell_type": "code",
   "execution_count": null,
   "id": "dfb5ae82",
   "metadata": {},
   "outputs": [],
   "source": [
    "null = contract_wise[contract_wise['category'] == '']"
   ]
  },
  {
   "cell_type": "code",
   "execution_count": 411,
   "id": "54ffe109",
   "metadata": {},
   "outputs": [
    {
     "data": {
      "text/plain": [
       "0.0"
      ]
     },
     "execution_count": 411,
     "metadata": {},
     "output_type": "execute_result"
    }
   ],
   "source": [
    "null['contracts_traded'].sum() / contract_wise['contracts_traded'].sum()"
   ]
  },
  {
   "cell_type": "code",
   "execution_count": 406,
   "id": "0ce17bab",
   "metadata": {},
   "outputs": [
    {
     "data": {
      "text/plain": [
       "0.07017481439313077"
      ]
     },
     "execution_count": 406,
     "metadata": {},
     "output_type": "execute_result"
    }
   ],
   "source": [
    "len(null)/len(contract_wise)"
   ]
  },
  {
   "cell_type": "code",
   "execution_count": 412,
   "id": "870da3a1",
   "metadata": {},
   "outputs": [
    {
     "data": {
      "text/html": [
       "<div>\n",
       "<style scoped>\n",
       "    .dataframe tbody tr th:only-of-type {\n",
       "        vertical-align: middle;\n",
       "    }\n",
       "\n",
       "    .dataframe tbody tr th {\n",
       "        vertical-align: top;\n",
       "    }\n",
       "\n",
       "    .dataframe thead th {\n",
       "        text-align: right;\n",
       "    }\n",
       "</style>\n",
       "<table border=\"1\" class=\"dataframe\">\n",
       "  <thead>\n",
       "    <tr style=\"text-align: right;\">\n",
       "      <th></th>\n",
       "      <th>ticker_name</th>\n",
       "      <th>contracts_traded</th>\n",
       "      <th>price</th>\n",
       "      <th>category</th>\n",
       "      <th>ticker_only</th>\n",
       "    </tr>\n",
       "  </thead>\n",
       "  <tbody>\n",
       "  </tbody>\n",
       "</table>\n",
       "</div>"
      ],
      "text/plain": [
       "Empty DataFrame\n",
       "Columns: [ticker_name, contracts_traded, price, category, ticker_only]\n",
       "Index: []"
      ]
     },
     "execution_count": 412,
     "metadata": {},
     "output_type": "execute_result"
    }
   ],
   "source": [
    "null[null['ticker_name'].str.contains('KXWTAIT')]"
   ]
  },
  {
   "cell_type": "code",
   "execution_count": 408,
   "id": "7de65242",
   "metadata": {},
   "outputs": [
    {
     "data": {
      "text/plain": [
       "ticker_only\n",
       "KXPAYROLLS               65\n",
       "KXWTAMAD                 62\n",
       "KXFEAR                   61\n",
       "KXWTAIT                  60\n",
       "KXU3                     57\n",
       "KXJOBLESSCLAIMS          53\n",
       "KXLAGODAYS               53\n",
       "KXNYCMDEBMENTION         53\n",
       "KXTOPMODEL               52\n",
       "KXHMONTHRANGE            50\n",
       "KXJPOWMENTION            50\n",
       "KXLLM1                   49\n",
       "KXWHVISIT                47\n",
       "KXGILLISESPYS            42\n",
       "KXEUROVISION             37\n",
       "KXNEXTPOPE               36\n",
       "KXWTAATX                 36\n",
       "KXPRESNOMD               36\n",
       "KXNCAABSEC               35\n",
       "KXNCAABACC               35\n",
       "KXADP                    34\n",
       "KXPCECORE                34\n",
       "KXINDY500                34\n",
       "KXSPACEXSTARSHIP         34\n",
       "OSCARNOMPIC              33\n",
       "KXPREMIERLEAGUE          33\n",
       "KXNCAABBIG12             33\n",
       "KXAAAGASW                33\n",
       "KXPRESVISIT              33\n",
       "KXNEXTTEAMMICAH          32\n",
       "KXMENWORLDCUP            31\n",
       "KXHURCAT                 31\n",
       "KXWTAMIA                 30\n",
       "KXCANDEBMENTION          30\n",
       "KXSOUTHPARKMENTION       29\n",
       "KXKAMALAMENTION          29\n",
       "KXINAUG                  29\n",
       "KXNCAABBIGTEN            29\n",
       "KXWTAIWO                 28\n",
       "KXGENESISINVITATIONAL    27\n",
       "KXISMPMI                 27\n",
       "KXSTARMERMENTION         27\n",
       "KX538APPROVE             27\n",
       "KXROMENSSINGLES          26\n",
       "KXCRYPTOSUMMIT           26\n",
       "KX2028DRUN               26\n",
       "KXTOPSELLERS             25\n",
       "KXWTAMOA                 25\n",
       "KXVANCEMENTION           25\n",
       "KXBANKRUPTS              25\n",
       "Name: count, dtype: int64"
      ]
     },
     "execution_count": 408,
     "metadata": {},
     "output_type": "execute_result"
    }
   ],
   "source": [
    "null['ticker_only'].value_counts()[:50]"
   ]
  },
  {
   "cell_type": "code",
   "execution_count": 14,
   "id": "1b84dd96",
   "metadata": {},
   "outputs": [
    {
     "data": {
      "text/plain": [
       "263.09"
      ]
     },
     "execution_count": 14,
     "metadata": {},
     "output_type": "execute_result"
    }
   ],
   "source": [
    "78927/300"
   ]
  },
  {
   "cell_type": "code",
   "execution_count": null,
   "id": "dc443fd1",
   "metadata": {},
   "outputs": [],
   "source": []
  }
 ],
 "metadata": {
  "kernelspec": {
   "display_name": "Python 3",
   "language": "python",
   "name": "python3"
  },
  "language_info": {
   "codemirror_mode": {
    "name": "ipython",
    "version": 3
   },
   "file_extension": ".py",
   "mimetype": "text/x-python",
   "name": "python",
   "nbconvert_exporter": "python",
   "pygments_lexer": "ipython3",
   "version": "3.9.6"
  }
 },
 "nbformat": 4,
 "nbformat_minor": 5
}
