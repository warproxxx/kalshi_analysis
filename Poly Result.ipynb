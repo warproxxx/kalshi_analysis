{
 "cells": [
  {
   "cell_type": "code",
   "execution_count": 1,
   "id": "8e516125",
   "metadata": {},
   "outputs": [],
   "source": [
    "import pandas as pd"
   ]
  },
  {
   "cell_type": "code",
   "execution_count": 15,
   "id": "bc417071",
   "metadata": {},
   "outputs": [
    {
     "name": "stderr",
     "output_type": "stream",
     "text": [
      "/var/folders/09/fwj9ml5j17z0dlwbz1b4vwph0000gn/T/ipykernel_53389/1782905383.py:1: DtypeWarning: Columns (13) have mixed types. Specify dtype option on import or set low_memory=False.\n",
      "  df = pd.read_csv('markets.csv')\n"
     ]
    }
   ],
   "source": [
    "df = pd.read_csv('markets.csv')"
   ]
  },
  {
   "cell_type": "code",
   "execution_count": 16,
   "id": "e4f9ed05",
   "metadata": {},
   "outputs": [],
   "source": [
    "not_null = df[~pd.isnull(df['category'])]"
   ]
  },
  {
   "cell_type": "code",
   "execution_count": 17,
   "id": "8f29ee2d",
   "metadata": {},
   "outputs": [],
   "source": [
    "sel = not_null.groupby('category').sum()[['volume']]"
   ]
  },
  {
   "cell_type": "code",
   "execution_count": 21,
   "id": "877b5f85",
   "metadata": {},
   "outputs": [
    {
     "data": {
      "text/plain": [
       "category\n",
       "Art                    0.312591\n",
       "Business               2.033364\n",
       "Chess                  0.450710\n",
       "Coronavirus            7.766254\n",
       "Coronavirus-           0.042003\n",
       "Crypto                17.822463\n",
       "Global Politics        1.361664\n",
       "NBA Playoffs           1.390253\n",
       "NFTs                   1.562167\n",
       "Olympics               0.213850\n",
       "Poker                  0.014869\n",
       "Politics               0.000368\n",
       "Pop-Culture            2.492523\n",
       "Science                0.577974\n",
       "Space                  0.041965\n",
       "Sports                13.323962\n",
       "Tech                   0.342877\n",
       "US-current-affairs    48.695733\n",
       "Ukraine & Russia       1.554411\n",
       "Name: volume, dtype: float64"
      ]
     },
     "execution_count": 21,
     "metadata": {},
     "output_type": "execute_result"
    }
   ],
   "source": [
    "sel['volume'] / sel['volume'].sum() * 100"
   ]
  },
  {
   "cell_type": "code",
   "execution_count": null,
   "id": "7f00c025",
   "metadata": {},
   "outputs": [],
   "source": []
  }
 ],
 "metadata": {
  "kernelspec": {
   "display_name": "Python 3",
   "language": "python",
   "name": "python3"
  },
  "language_info": {
   "codemirror_mode": {
    "name": "ipython",
    "version": 3
   },
   "file_extension": ".py",
   "mimetype": "text/x-python",
   "name": "python",
   "nbconvert_exporter": "python",
   "pygments_lexer": "ipython3",
   "version": "3.9.6"
  }
 },
 "nbformat": 4,
 "nbformat_minor": 5
}
