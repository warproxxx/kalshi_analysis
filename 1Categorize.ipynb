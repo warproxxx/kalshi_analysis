{
 "cells": [
  {
   "cell_type": "code",
   "execution_count": 511,
   "id": "1a7f259a",
   "metadata": {},
   "outputs": [],
   "source": [
    "import pandas as pd\n",
    "import json"
   ]
  },
  {
   "cell_type": "code",
   "execution_count": 2,
   "id": "6ed13c56",
   "metadata": {},
   "outputs": [],
   "source": [
    "df = pd.read_csv('data/kalshi_trade_data_2025.csv')"
   ]
  },
  {
   "cell_type": "code",
   "execution_count": 3,
   "id": "d779af8b",
   "metadata": {},
   "outputs": [],
   "source": [
    "contract_wise = df.groupby('ticker_name').agg({'contracts_traded': 'sum', 'price': 'mean'})"
   ]
  },
  {
   "cell_type": "code",
   "execution_count": 4,
   "id": "2b49cecd",
   "metadata": {},
   "outputs": [],
   "source": [
    "contract_wise = contract_wise.sort_values('contracts_traded', ascending=False)"
   ]
  },
  {
   "cell_type": "code",
   "execution_count": 8,
   "id": "9c1415d2",
   "metadata": {},
   "outputs": [],
   "source": [
    "contract_wise = contract_wise.reset_index()"
   ]
  },
  {
   "cell_type": "code",
   "execution_count": 184,
   "id": "4bd0beea",
   "metadata": {},
   "outputs": [],
   "source": [
    "contract_wise['ticker_only'] = contract_wise['ticker_name'].apply(lambda x: x.split('-')[0])"
   ]
  },
  {
   "cell_type": "code",
   "execution_count": null,
   "id": "40cb907c",
   "metadata": {},
   "outputs": [],
   "source": [
    "category = json.loads(open('categories.json').read())\n",
    "\n",
    "# Method 1: Using apply with a function\n",
    "def categorize_ticker(ticker_name):\n",
    "    for key in category.keys():\n",
    "        if key in str(ticker_name):\n",
    "            return category[key]\n",
    "    return 'Uncategorized'\n",
    "\n",
    "contract_wise['category'] = contract_wise['ticker_name'].apply(categorize_ticker)"
   ]
  },
  {
   "cell_type": "code",
   "execution_count": 508,
   "id": "179ac15b",
   "metadata": {},
   "outputs": [],
   "source": [
    "contract_wise.to_csv('data/category_wise.csv', index=None)"
   ]
  },
  {
   "cell_type": "code",
   "execution_count": 509,
   "id": "dfb5ae82",
   "metadata": {},
   "outputs": [],
   "source": [
    "null = contract_wise[contract_wise['category'] == 'Uncategorized']"
   ]
  },
  {
   "cell_type": "code",
   "execution_count": 510,
   "id": "54ffe109",
   "metadata": {},
   "outputs": [
    {
     "data": {
      "text/plain": [
       "0.010726081771927699"
      ]
     },
     "execution_count": 510,
     "metadata": {},
     "output_type": "execute_result"
    }
   ],
   "source": [
    "null['contracts_traded'].sum() / contract_wise['contracts_traded'].sum()"
   ]
  },
  {
   "cell_type": "code",
   "execution_count": 500,
   "id": "0ce17bab",
   "metadata": {},
   "outputs": [
    {
     "data": {
      "text/plain": [
       "0.008070637349083233"
      ]
     },
     "execution_count": 500,
     "metadata": {},
     "output_type": "execute_result"
    }
   ],
   "source": [
    "len(null)/len(contract_wise)"
   ]
  },
  {
   "cell_type": "code",
   "execution_count": 501,
   "id": "870da3a1",
   "metadata": {},
   "outputs": [
    {
     "data": {
      "text/html": [
       "<div>\n",
       "<style scoped>\n",
       "    .dataframe tbody tr th:only-of-type {\n",
       "        vertical-align: middle;\n",
       "    }\n",
       "\n",
       "    .dataframe tbody tr th {\n",
       "        vertical-align: top;\n",
       "    }\n",
       "\n",
       "    .dataframe thead th {\n",
       "        text-align: right;\n",
       "    }\n",
       "</style>\n",
       "<table border=\"1\" class=\"dataframe\">\n",
       "  <thead>\n",
       "    <tr style=\"text-align: right;\">\n",
       "      <th></th>\n",
       "      <th>ticker_name</th>\n",
       "      <th>contracts_traded</th>\n",
       "      <th>price</th>\n",
       "      <th>category</th>\n",
       "      <th>ticker_only</th>\n",
       "    </tr>\n",
       "  </thead>\n",
       "  <tbody>\n",
       "  </tbody>\n",
       "</table>\n",
       "</div>"
      ],
      "text/plain": [
       "Empty DataFrame\n",
       "Columns: [ticker_name, contracts_traded, price, category, ticker_only]\n",
       "Index: []"
      ]
     },
     "execution_count": 501,
     "metadata": {},
     "output_type": "execute_result"
    }
   ],
   "source": [
    "null[null['ticker_name'].str.contains('KXVMAKPOP')]"
   ]
  },
  {
   "cell_type": "code",
   "execution_count": 493,
   "id": "dc443fd1",
   "metadata": {},
   "outputs": [
    {
     "data": {
      "text/plain": [
       "ticker_only\n",
       "KXENDORSECUOMO          5\n",
       "KXAMAFCS                5\n",
       "KXNEWPOPEDATE           5\n",
       "KXBCHMINY               5\n",
       "KXEMMYRCPROGRAM         5\n",
       "                       ..\n",
       "POPVOTEMOVNV            1\n",
       "KX1SONGOLIVIARODRIGO    1\n",
       "KXOAIMUSKSETTLE         1\n",
       "KXMUSKINJ               1\n",
       "KXPARLITURKEY           1\n",
       "Name: count, Length: 1718, dtype: int64"
      ]
     },
     "execution_count": 493,
     "metadata": {},
     "output_type": "execute_result"
    }
   ],
   "source": [
    "null['ticker_only'].value_counts()"
   ]
  },
  {
   "cell_type": "code",
   "execution_count": null,
   "id": "42dd6b09",
   "metadata": {},
   "outputs": [],
   "source": [
    "df = pd.read_csv('data/kalshi_trade_data_2025.csv')\n",
    "category = json.loads(open('categories.json').read())\n",
    "pattern = '|'.join(category.keys())\n",
    "\n",
    "\n",
    "def categorize_chunk(chunk):\n",
    "    global pattern\n",
    "    return chunk['ticker_name'].str.findall(pattern).str[0].map(category)\n",
    "\n",
    "# Process in chunks\n",
    "chunk_size = 100000\n",
    "chunks = []\n",
    "for i in range(0, len(df), chunk_size):\n",
    "    print(f\"{round(i/len(df) * 100, 2)}% done\")\n",
    "    chunk = df.iloc[i:i+chunk_size]\n",
    "    chunk['category'] = categorize_chunk(chunk)\n",
    "    chunks.append(chunk)\n",
    "\n",
    "df = pd.concat(chunks, ignore_index=True)\n",
    "df.to_csv('data/df_with_category.csv', index=None)"
   ]
  },
  {
   "cell_type": "code",
   "execution_count": 515,
   "id": "10ad776c",
   "metadata": {},
   "outputs": [
    {
     "data": {
      "text/plain": [
       "Index(['create_ts', 'ticker_name', 'contracts_traded', 'price'], dtype='object')"
      ]
     },
     "execution_count": 515,
     "metadata": {},
     "output_type": "execute_result"
    }
   ],
   "source": [
    "df.columns"
   ]
  },
  {
   "cell_type": "code",
   "execution_count": null,
   "id": "abc6474e",
   "metadata": {},
   "outputs": [],
   "source": []
  }
 ],
 "metadata": {
  "kernelspec": {
   "display_name": "Python 3",
   "language": "python",
   "name": "python3"
  },
  "language_info": {
   "codemirror_mode": {
    "name": "ipython",
    "version": 3
   },
   "file_extension": ".py",
   "mimetype": "text/x-python",
   "name": "python",
   "nbconvert_exporter": "python",
   "pygments_lexer": "ipython3",
   "version": "3.9.6"
  }
 },
 "nbformat": 4,
 "nbformat_minor": 5
}
