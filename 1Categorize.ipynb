{
 "cells": [
  {
   "cell_type": "code",
   "execution_count": 1,
   "id": "1a7f259a",
   "metadata": {},
   "outputs": [],
   "source": [
    "import pandas as pd\n",
    "import json\n",
    "import warnings\n",
    "warnings.filterwarnings(\"ignore\")\n"
   ]
  },
  {
   "cell_type": "code",
   "execution_count": 3,
   "id": "6ed13c56",
   "metadata": {},
   "outputs": [],
   "source": [
    "df = pd.read_csv('data/kalshi_trade_data.csv')"
   ]
  },
  {
   "cell_type": "code",
   "execution_count": 4,
   "id": "d779af8b",
   "metadata": {},
   "outputs": [],
   "source": [
    "contract_wise = df.groupby('ticker_name').agg({'contracts_traded': 'sum', 'price': 'mean'})"
   ]
  },
  {
   "cell_type": "code",
   "execution_count": 5,
   "id": "2b49cecd",
   "metadata": {},
   "outputs": [],
   "source": [
    "contract_wise = contract_wise.sort_values('contracts_traded', ascending=False)"
   ]
  },
  {
   "cell_type": "code",
   "execution_count": 6,
   "id": "9c1415d2",
   "metadata": {},
   "outputs": [],
   "source": [
    "contract_wise = contract_wise.reset_index()"
   ]
  },
  {
   "cell_type": "code",
   "execution_count": 7,
   "id": "4bd0beea",
   "metadata": {},
   "outputs": [],
   "source": [
    "contract_wise['ticker_only'] = contract_wise['ticker_name'].apply(lambda x: x.split('-')[0])"
   ]
  },
  {
   "cell_type": "code",
   "execution_count": 51,
   "id": "40cb907c",
   "metadata": {},
   "outputs": [],
   "source": [
    "category = json.loads(open('categories.json').read())\n",
    "\n",
    "# Method 1: Using apply with a function\n",
    "def categorize_ticker(ticker_name):\n",
    "    for key in category.keys():\n",
    "        if key in str(ticker_name):\n",
    "            return category[key]\n",
    "    return 'Uncategorized'\n",
    "\n",
    "contract_wise['category'] = contract_wise['ticker_name'].apply(categorize_ticker)"
   ]
  },
  {
   "cell_type": "code",
   "execution_count": 52,
   "id": "179ac15b",
   "metadata": {},
   "outputs": [],
   "source": [
    "contract_wise.to_csv('data/category_wise.csv', index=None)"
   ]
  },
  {
   "cell_type": "code",
   "execution_count": 53,
   "id": "dfb5ae82",
   "metadata": {},
   "outputs": [],
   "source": [
    "null = contract_wise[contract_wise['category'] == 'Uncategorized']"
   ]
  },
  {
   "cell_type": "code",
   "execution_count": 54,
   "id": "54ffe109",
   "metadata": {},
   "outputs": [
    {
     "data": {
      "text/plain": [
       "0.03652751773567131"
      ]
     },
     "execution_count": 54,
     "metadata": {},
     "output_type": "execute_result"
    }
   ],
   "source": [
    "null['contracts_traded'].sum() / contract_wise['contracts_traded'].sum()"
   ]
  },
  {
   "cell_type": "code",
   "execution_count": 55,
   "id": "0ce17bab",
   "metadata": {},
   "outputs": [
    {
     "data": {
      "text/plain": [
       "0.005566104685731822"
      ]
     },
     "execution_count": 55,
     "metadata": {},
     "output_type": "execute_result"
    }
   ],
   "source": [
    "len(null)/len(contract_wise)"
   ]
  },
  {
   "cell_type": "code",
   "execution_count": 56,
   "id": "870da3a1",
   "metadata": {},
   "outputs": [
    {
     "data": {
      "text/html": [
       "<div>\n",
       "<style scoped>\n",
       "    .dataframe tbody tr th:only-of-type {\n",
       "        vertical-align: middle;\n",
       "    }\n",
       "\n",
       "    .dataframe tbody tr th {\n",
       "        vertical-align: top;\n",
       "    }\n",
       "\n",
       "    .dataframe thead th {\n",
       "        text-align: right;\n",
       "    }\n",
       "</style>\n",
       "<table border=\"1\" class=\"dataframe\">\n",
       "  <thead>\n",
       "    <tr style=\"text-align: right;\">\n",
       "      <th></th>\n",
       "      <th>ticker_name</th>\n",
       "      <th>contracts_traded</th>\n",
       "      <th>price</th>\n",
       "      <th>ticker_only</th>\n",
       "      <th>category</th>\n",
       "    </tr>\n",
       "  </thead>\n",
       "  <tbody>\n",
       "  </tbody>\n",
       "</table>\n",
       "</div>"
      ],
      "text/plain": [
       "Empty DataFrame\n",
       "Columns: [ticker_name, contracts_traded, price, ticker_only, category]\n",
       "Index: []"
      ]
     },
     "execution_count": 56,
     "metadata": {},
     "output_type": "execute_result"
    }
   ],
   "source": [
    "null[null['ticker_name'].str.contains('BTC')]"
   ]
  },
  {
   "cell_type": "code",
   "execution_count": 57,
   "id": "dc443fd1",
   "metadata": {},
   "outputs": [
    {
     "data": {
      "text/plain": [
       "Index(['PRESPARTYGA', 'KXNEXTSPEAKER', 'KXWA4PRIMARY', 'KXECADVANTAGE',\n",
       "       'KXNYCCOUNCIL39', 'KXNIAGARASOUTH', 'PRESPARTYNE', 'KXMALAWIASSEMBLY',\n",
       "       'GOVPARTYND', 'KXDISTANCE3IATLAS', 'KXGOVNMNOMD', 'KXDEPCIA',\n",
       "       'KXACQUIREREALMADRID', 'KXDONATEBEASTWATER',\n",
       "       'KXPODCASTGUESTCALLHERDADDY', 'PRESPARTYME1', 'KXALLINGUEST',\n",
       "       'KXLANGLEY', 'KXTOPALBUMBYTAYLORSWIFT', 'GOVPARTYME',\n",
       "       'KXMYSTERYSTOCKBUFFET', 'KXUCL16PSGSTB', 'KXMCGREGORFIGHTNEXT', 'SORA',\n",
       "       'KXO13MENSINGLES', 'HOUSECA40', 'SENATEMA', 'KXCO2LEVEL',\n",
       "       'KXNYCBOROUGHWINMAN', 'HOUSEMI4', 'GOVPARTYFL', 'HOUSEFL6', 'SENATEAL',\n",
       "       'GOVPARTYIL', 'KXNEXTTONGAPM', 'KXUEFASUPERCUP', 'PRESPARTYMD',\n",
       "       'PRESPARTYME2', 'KXEDUCUTS', 'KXTURKEYAMB', 'KXOAIPROFIT',\n",
       "       'KXKLARSTRIP', 'KXAUSCOALITION', 'KXOTHERLAUNCH', 'GOVPARTYTN',\n",
       "       'KXBOXING', 'GOVPARTYVA', 'KXRESCISSIONBILL', 'SENATEDE', 'KXCA11D',\n",
       "       'KXCONGRESSTRADES', 'PRESPARTYDE', 'KXUCL16PSVJUV', 'HOUSEPA1',\n",
       "       'PRESPARTYDC', 'PRESPARTYRI', 'HOUSEWI1', 'KXUHCEXTRA', 'KXTX28D',\n",
       "       'KXCLOVERDALE', 'KXABRAHAMQ', 'KXSENATERUN', 'HOUSEPA17', 'KXNEWGLENN',\n",
       "       'PRESPARTYNE3', 'PRESPARTYND', 'SENATEME', 'KXUSELECTIONARIZONA7',\n",
       "       'JPMCEOCHANGE', 'PRESPARTYWY', 'KXKILDONAN', 'PRESPARTYAL', 'ARGDOLLAR',\n",
       "       'HOUSECO3', 'KXJAMAICANHOR', 'KXSENATENHR', 'KXOSTP',\n",
       "       'KXNYCBOROUGHWINSTAT', 'KXALTMANEQUITY', 'HOUSENM2', 'KXALBANIAPARTY',\n",
       "       'CAPGAIN', 'PRESPARTYSD', 'KXXFLARE', 'KXSURGEON', 'HOUSEMT1',\n",
       "       'PRESPARTYMS', 'USCLIMATE', 'GOVPARTYRI', 'KXSANCTIONRUS',\n",
       "       'SPOTIFYSUBS', 'METADAP', 'KXRBADECISION', 'KXJOINEKITIKE', 'USDARSMAX',\n",
       "       'KXEDMONTONGATEWAY', 'GOVPARTYVT', 'KXONTPARTY',\n",
       "       'KX1SONGSABRINACARPENTER', 'KXEMMYSVSERIES'],\n",
       "      dtype='object', name='ticker_only')"
      ]
     },
     "execution_count": 57,
     "metadata": {},
     "output_type": "execute_result"
    }
   ],
   "source": [
    "null['ticker_only'].value_counts()[:100].keys()"
   ]
  },
  {
   "cell_type": "code",
   "execution_count": 60,
   "id": "42dd6b09",
   "metadata": {},
   "outputs": [
    {
     "name": "stdout",
     "output_type": "stream",
     "text": [
      "0.0% done\n",
      "0.42% done\n",
      "0.84% done\n",
      "1.26% done\n",
      "1.68% done\n",
      "2.1% done\n",
      "2.52% done\n",
      "2.94% done\n",
      "3.35% done\n",
      "3.77% done\n",
      "4.19% done\n",
      "4.61% done\n",
      "5.03% done\n",
      "5.45% done\n",
      "5.87% done\n",
      "6.29% done\n",
      "6.71% done\n",
      "7.13% done\n",
      "7.55% done\n",
      "7.97% done\n",
      "8.39% done\n",
      "8.81% done\n",
      "9.23% done\n",
      "9.65% done\n",
      "10.06% done\n",
      "10.48% done\n",
      "10.9% done\n",
      "11.32% done\n",
      "11.74% done\n",
      "12.16% done\n",
      "12.58% done\n",
      "13.0% done\n",
      "13.42% done\n",
      "13.84% done\n",
      "14.26% done\n",
      "14.68% done\n",
      "15.1% done\n",
      "15.52% done\n",
      "15.94% done\n",
      "16.35% done\n",
      "16.77% done\n",
      "17.19% done\n",
      "17.61% done\n",
      "18.03% done\n",
      "18.45% done\n",
      "18.87% done\n",
      "19.29% done\n",
      "19.71% done\n",
      "20.13% done\n",
      "20.55% done\n",
      "20.97% done\n",
      "21.39% done\n",
      "21.81% done\n",
      "22.23% done\n",
      "22.65% done\n",
      "23.06% done\n",
      "23.48% done\n",
      "23.9% done\n",
      "24.32% done\n",
      "24.74% done\n",
      "25.16% done\n",
      "25.58% done\n",
      "26.0% done\n",
      "26.42% done\n",
      "26.84% done\n",
      "27.26% done\n",
      "27.68% done\n",
      "28.1% done\n",
      "28.52% done\n",
      "28.94% done\n",
      "29.35% done\n",
      "29.77% done\n",
      "30.19% done\n",
      "30.61% done\n",
      "31.03% done\n",
      "31.45% done\n",
      "31.87% done\n",
      "32.29% done\n",
      "32.71% done\n",
      "33.13% done\n",
      "33.55% done\n",
      "33.97% done\n",
      "34.39% done\n",
      "34.81% done\n",
      "35.23% done\n",
      "35.64% done\n",
      "36.06% done\n",
      "36.48% done\n",
      "36.9% done\n",
      "37.32% done\n",
      "37.74% done\n",
      "38.16% done\n",
      "38.58% done\n",
      "39.0% done\n",
      "39.42% done\n",
      "39.84% done\n",
      "40.26% done\n",
      "40.68% done\n",
      "41.1% done\n",
      "41.52% done\n",
      "41.94% done\n",
      "42.35% done\n",
      "42.77% done\n",
      "43.19% done\n",
      "43.61% done\n",
      "44.03% done\n",
      "44.45% done\n",
      "44.87% done\n",
      "45.29% done\n",
      "45.71% done\n",
      "46.13% done\n",
      "46.55% done\n",
      "46.97% done\n",
      "47.39% done\n",
      "47.81% done\n",
      "48.23% done\n",
      "48.64% done\n",
      "49.06% done\n",
      "49.48% done\n",
      "49.9% done\n",
      "50.32% done\n",
      "50.74% done\n",
      "51.16% done\n",
      "51.58% done\n",
      "52.0% done\n",
      "52.42% done\n",
      "52.84% done\n",
      "53.26% done\n",
      "53.68% done\n",
      "54.1% done\n",
      "54.52% done\n",
      "54.94% done\n",
      "55.35% done\n",
      "55.77% done\n",
      "56.19% done\n",
      "56.61% done\n",
      "57.03% done\n",
      "57.45% done\n",
      "57.87% done\n",
      "58.29% done\n",
      "58.71% done\n",
      "59.13% done\n",
      "59.55% done\n",
      "59.97% done\n",
      "60.39% done\n",
      "60.81% done\n",
      "61.23% done\n",
      "61.64% done\n",
      "62.06% done\n",
      "62.48% done\n",
      "62.9% done\n",
      "63.32% done\n",
      "63.74% done\n",
      "64.16% done\n",
      "64.58% done\n",
      "65.0% done\n",
      "65.42% done\n",
      "65.84% done\n",
      "66.26% done\n",
      "66.68% done\n",
      "67.1% done\n",
      "67.52% done\n",
      "67.94% done\n",
      "68.35% done\n",
      "68.77% done\n",
      "69.19% done\n",
      "69.61% done\n",
      "70.03% done\n",
      "70.45% done\n",
      "70.87% done\n",
      "71.29% done\n",
      "71.71% done\n",
      "72.13% done\n",
      "72.55% done\n",
      "72.97% done\n",
      "73.39% done\n",
      "73.81% done\n",
      "74.23% done\n",
      "74.64% done\n",
      "75.06% done\n",
      "75.48% done\n",
      "75.9% done\n",
      "76.32% done\n",
      "76.74% done\n",
      "77.16% done\n",
      "77.58% done\n",
      "78.0% done\n",
      "78.42% done\n",
      "78.84% done\n",
      "79.26% done\n",
      "79.68% done\n",
      "80.1% done\n",
      "80.52% done\n",
      "80.94% done\n",
      "81.35% done\n",
      "81.77% done\n",
      "82.19% done\n",
      "82.61% done\n",
      "83.03% done\n",
      "83.45% done\n",
      "83.87% done\n",
      "84.29% done\n",
      "84.71% done\n",
      "85.13% done\n",
      "85.55% done\n",
      "85.97% done\n",
      "86.39% done\n",
      "86.81% done\n",
      "87.23% done\n",
      "87.64% done\n",
      "88.06% done\n",
      "88.48% done\n",
      "88.9% done\n",
      "89.32% done\n",
      "89.74% done\n",
      "90.16% done\n",
      "90.58% done\n",
      "91.0% done\n",
      "91.42% done\n",
      "91.84% done\n",
      "92.26% done\n",
      "92.68% done\n",
      "93.1% done\n",
      "93.52% done\n",
      "93.94% done\n",
      "94.35% done\n",
      "94.77% done\n",
      "95.19% done\n",
      "95.61% done\n",
      "96.03% done\n",
      "96.45% done\n",
      "96.87% done\n",
      "97.29% done\n",
      "97.71% done\n",
      "98.13% done\n",
      "98.55% done\n",
      "98.97% done\n",
      "99.39% done\n",
      "99.81% done\n"
     ]
    }
   ],
   "source": [
    "df = pd.read_csv('data/kalshi_trade_data.csv')\n",
    "category = json.loads(open('categories.json').read())\n",
    "pattern = '|'.join(category.keys())\n",
    "\n",
    "\n",
    "def categorize_chunk(chunk):\n",
    "    global pattern\n",
    "    return chunk['ticker_name'].str.findall(pattern).str[0].map(category)\n",
    "\n",
    "# Process in chunks\n",
    "chunk_size = 100000\n",
    "chunks = []\n",
    "for i in range(0, len(df), chunk_size):\n",
    "    print(f\"{round(i/len(df) * 100, 2)}% done\")\n",
    "    chunk = df.iloc[i:i+chunk_size]\n",
    "    chunk['category'] = categorize_chunk(chunk)\n",
    "    chunks.append(chunk)\n",
    "\n",
    "df = pd.concat(chunks, ignore_index=True)\n",
    "df.to_csv('data/df_with_category.csv', index=None)"
   ]
  },
  {
   "cell_type": "code",
   "execution_count": 59,
   "id": "10ad776c",
   "metadata": {},
   "outputs": [
    {
     "data": {
      "text/plain": [
       "Index(['create_ts', 'ticker_name', 'contracts_traded', 'price'], dtype='object')"
      ]
     },
     "execution_count": 59,
     "metadata": {},
     "output_type": "execute_result"
    }
   ],
   "source": [
    "df.columns"
   ]
  },
  {
   "cell_type": "code",
   "execution_count": null,
   "id": "abc6474e",
   "metadata": {},
   "outputs": [],
   "source": []
  },
  {
   "cell_type": "code",
   "execution_count": null,
   "id": "3032425a",
   "metadata": {},
   "outputs": [],
   "source": []
  }
 ],
 "metadata": {
  "kernelspec": {
   "display_name": "Python 3",
   "language": "python",
   "name": "python3"
  },
  "language_info": {
   "codemirror_mode": {
    "name": "ipython",
    "version": 3
   },
   "file_extension": ".py",
   "mimetype": "text/x-python",
   "name": "python",
   "nbconvert_exporter": "python",
   "pygments_lexer": "ipython3",
   "version": "3.9.6"
  }
 },
 "nbformat": 4,
 "nbformat_minor": 5
}
