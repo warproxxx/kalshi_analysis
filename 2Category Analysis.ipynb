{
 "cells": [
  {
   "cell_type": "code",
   "execution_count": 1,
   "id": "1474dcc4",
   "metadata": {},
   "outputs": [],
   "source": [
    "\n",
    "import polars as pl\n",
    "from datetime import datetime"
   ]
  },
  {
   "cell_type": "code",
   "execution_count": 2,
   "id": "3022807d",
   "metadata": {},
   "outputs": [],
   "source": [
    "df = pl.read_csv(\"data/df_with_category.csv\")\n"
   ]
  },
  {
   "cell_type": "code",
   "execution_count": 3,
   "id": "dae04a58",
   "metadata": {},
   "outputs": [
    {
     "data": {
      "text/html": [
       "<div><style>\n",
       ".dataframe > thead > tr,\n",
       ".dataframe > tbody > tr {\n",
       "  text-align: right;\n",
       "  white-space: pre-wrap;\n",
       "}\n",
       "</style>\n",
       "<small>shape: (18_352_508, 5)</small><table border=\"1\" class=\"dataframe\"><thead><tr><th>create_ts</th><th>ticker_name</th><th>contracts_traded</th><th>price</th><th>category</th></tr><tr><td>str</td><td>str</td><td>i64</td><td>i64</td><td>str</td></tr></thead><tbody><tr><td>&quot;2025-01-01 23:59:27-05:00&quot;</td><td>&quot;KXINAUG-25-MZ&quot;</td><td>29</td><td>47</td><td>&quot;US Politics&quot;</td></tr><tr><td>&quot;2025-01-01 23:59:27-05:00&quot;</td><td>&quot;KXINAUG-25-MZ&quot;</td><td>25</td><td>47</td><td>&quot;US Politics&quot;</td></tr><tr><td>&quot;2025-01-01 23:59:27-05:00&quot;</td><td>&quot;KXINAUG-25-MZ&quot;</td><td>50</td><td>47</td><td>&quot;US Politics&quot;</td></tr><tr><td>&quot;2025-01-01 23:59:27-05:00&quot;</td><td>&quot;CABINETTULSI-25-FEB01&quot;</td><td>10</td><td>91</td><td>null</td></tr><tr><td>&quot;2025-01-01 23:59:25-05:00&quot;</td><td>&quot;KXSNOWNYM-25JAN-T8.0&quot;</td><td>222</td><td>21</td><td>&quot;Weather&quot;</td></tr><tr><td>&hellip;</td><td>&hellip;</td><td>&hellip;</td><td>&hellip;</td><td>&hellip;</td></tr><tr><td>&quot;2025-08-12 00:00:02-04:00&quot;</td><td>&quot;KXWTAMATCH-25AUG11RYBMER-RYB&quot;</td><td>22</td><td>53</td><td>&quot;Sports&quot;</td></tr><tr><td>&quot;2025-08-12 00:00:02-04:00&quot;</td><td>&quot;KXFEDDECISION-25SEP-H0&quot;</td><td>1100</td><td>20</td><td>&quot;Macroeconomics&quot;</td></tr><tr><td>&quot;2025-08-12 00:00:01-04:00&quot;</td><td>&quot;KXCPI-25JUL-T0.2&quot;</td><td>163</td><td>52</td><td>&quot;Macroeconomics&quot;</td></tr><tr><td>&quot;2025-08-12 00:00:01-04:00&quot;</td><td>&quot;KXNEWTAYLOR-25&quot;</td><td>10</td><td>95</td><td>&quot;Pop Culture&quot;</td></tr><tr><td>&quot;2025-08-12 00:00:00-04:00&quot;</td><td>&quot;KXTOPARTIST-25-TS&quot;</td><td>3</td><td>27</td><td>&quot;Pop Culture&quot;</td></tr></tbody></table></div>"
      ],
      "text/plain": [
       "shape: (18_352_508, 5)\n",
       "┌────────────────┬──────────────────────────────┬──────────────────┬───────┬────────────────┐\n",
       "│ create_ts      ┆ ticker_name                  ┆ contracts_traded ┆ price ┆ category       │\n",
       "│ ---            ┆ ---                          ┆ ---              ┆ ---   ┆ ---            │\n",
       "│ str            ┆ str                          ┆ i64              ┆ i64   ┆ str            │\n",
       "╞════════════════╪══════════════════════════════╪══════════════════╪═══════╪════════════════╡\n",
       "│ 2025-01-01     ┆ KXINAUG-25-MZ                ┆ 29               ┆ 47    ┆ US Politics    │\n",
       "│ 23:59:27-05:00 ┆                              ┆                  ┆       ┆                │\n",
       "│ 2025-01-01     ┆ KXINAUG-25-MZ                ┆ 25               ┆ 47    ┆ US Politics    │\n",
       "│ 23:59:27-05:00 ┆                              ┆                  ┆       ┆                │\n",
       "│ 2025-01-01     ┆ KXINAUG-25-MZ                ┆ 50               ┆ 47    ┆ US Politics    │\n",
       "│ 23:59:27-05:00 ┆                              ┆                  ┆       ┆                │\n",
       "│ 2025-01-01     ┆ CABINETTULSI-25-FEB01        ┆ 10               ┆ 91    ┆ null           │\n",
       "│ 23:59:27-05:00 ┆                              ┆                  ┆       ┆                │\n",
       "│ 2025-01-01     ┆ KXSNOWNYM-25JAN-T8.0         ┆ 222              ┆ 21    ┆ Weather        │\n",
       "│ 23:59:25-05:00 ┆                              ┆                  ┆       ┆                │\n",
       "│ …              ┆ …                            ┆ …                ┆ …     ┆ …              │\n",
       "│ 2025-08-12     ┆ KXWTAMATCH-25AUG11RYBMER-RYB ┆ 22               ┆ 53    ┆ Sports         │\n",
       "│ 00:00:02-04:00 ┆                              ┆                  ┆       ┆                │\n",
       "│ 2025-08-12     ┆ KXFEDDECISION-25SEP-H0       ┆ 1100             ┆ 20    ┆ Macroeconomics │\n",
       "│ 00:00:02-04:00 ┆                              ┆                  ┆       ┆                │\n",
       "│ 2025-08-12     ┆ KXCPI-25JUL-T0.2             ┆ 163              ┆ 52    ┆ Macroeconomics │\n",
       "│ 00:00:01-04:00 ┆                              ┆                  ┆       ┆                │\n",
       "│ 2025-08-12     ┆ KXNEWTAYLOR-25               ┆ 10               ┆ 95    ┆ Pop Culture    │\n",
       "│ 00:00:01-04:00 ┆                              ┆                  ┆       ┆                │\n",
       "│ 2025-08-12     ┆ KXTOPARTIST-25-TS            ┆ 3                ┆ 27    ┆ Pop Culture    │\n",
       "│ 00:00:00-04:00 ┆                              ┆                  ┆       ┆                │\n",
       "└────────────────┴──────────────────────────────┴──────────────────┴───────┴────────────────┘"
      ]
     },
     "execution_count": 3,
     "metadata": {},
     "output_type": "execute_result"
    }
   ],
   "source": [
    "df"
   ]
  },
  {
   "cell_type": "code",
   "execution_count": 4,
   "id": "6c8d3453",
   "metadata": {},
   "outputs": [],
   "source": [
    "df = df.with_columns([\n",
    "    pl.col('create_ts').str.to_datetime().alias(\"parsed_ts\")\n",
    "])"
   ]
  },
  {
   "cell_type": "code",
   "execution_count": 5,
   "id": "61a11291",
   "metadata": {},
   "outputs": [
    {
     "name": "stderr",
     "output_type": "stream",
     "text": [
      "/var/folders/09/fwj9ml5j17z0dlwbz1b4vwph0000gn/T/ipykernel_39158/3550471803.py:10: DeprecationWarning: `pl.count()` is deprecated. Please use `pl.len()` instead.\n",
      "(Deprecated in version 0.20.5)\n",
      "  pl.count().alias(\"trade_count\")\n"
     ]
    }
   ],
   "source": [
    "monthly_analysis = (\n",
    "    df\n",
    "    .with_columns([\n",
    "        # Extract year-month for grouping\n",
    "        pl.col(\"parsed_ts\").dt.truncate(\"1mo\").alias(\"month\")\n",
    "    ])\n",
    "    .group_by([\"month\", \"category\"])\n",
    "    .agg([\n",
    "        pl.col(\"contracts_traded\").sum().alias(\"category_volume\"),\n",
    "        pl.count().alias(\"trade_count\")\n",
    "    ])\n",
    ")\n"
   ]
  },
  {
   "cell_type": "code",
   "execution_count": 6,
   "id": "63976dbd",
   "metadata": {},
   "outputs": [
    {
     "data": {
      "text/html": [
       "<div><style>\n",
       ".dataframe > thead > tr,\n",
       ".dataframe > tbody > tr {\n",
       "  text-align: right;\n",
       "  white-space: pre-wrap;\n",
       "}\n",
       "</style>\n",
       "<small>shape: (80, 4)</small><table border=\"1\" class=\"dataframe\"><thead><tr><th>month</th><th>category</th><th>category_volume</th><th>trade_count</th></tr><tr><td>datetime[μs, UTC]</td><td>str</td><td>i64</td><td>u32</td></tr></thead><tbody><tr><td>2025-08-01 00:00:00 UTC</td><td>&quot;Finance&quot;</td><td>7284207</td><td>44617</td></tr><tr><td>2025-04-01 00:00:00 UTC</td><td>&quot;Weather&quot;</td><td>617806</td><td>9466</td></tr><tr><td>2025-06-01 00:00:00 UTC</td><td>null</td><td>4496842</td><td>59217</td></tr><tr><td>2025-06-01 00:00:00 UTC</td><td>&quot;Sports&quot;</td><td>631305022</td><td>1961290</td></tr><tr><td>2025-02-01 00:00:00 UTC</td><td>&quot;Pop Culture&quot;</td><td>21773942</td><td>249450</td></tr><tr><td>&hellip;</td><td>&hellip;</td><td>&hellip;</td><td>&hellip;</td></tr><tr><td>2025-07-01 00:00:00 UTC</td><td>&quot;Temperature&quot;</td><td>12026002</td><td>234827</td></tr><tr><td>2025-03-01 00:00:00 UTC</td><td>&quot;Macroeconomics&quot;</td><td>7336357</td><td>53383</td></tr><tr><td>2025-08-01 00:00:00 UTC</td><td>&quot;Pop Culture&quot;</td><td>4779741</td><td>41745</td></tr><tr><td>2025-04-01 00:00:00 UTC</td><td>&quot;Macroeconomics&quot;</td><td>52362968</td><td>183280</td></tr><tr><td>2025-03-01 00:00:00 UTC</td><td>&quot;US Politics&quot;</td><td>24059972</td><td>217679</td></tr></tbody></table></div>"
      ],
      "text/plain": [
       "shape: (80, 4)\n",
       "┌─────────────────────────┬────────────────┬─────────────────┬─────────────┐\n",
       "│ month                   ┆ category       ┆ category_volume ┆ trade_count │\n",
       "│ ---                     ┆ ---            ┆ ---             ┆ ---         │\n",
       "│ datetime[μs, UTC]       ┆ str            ┆ i64             ┆ u32         │\n",
       "╞═════════════════════════╪════════════════╪═════════════════╪═════════════╡\n",
       "│ 2025-08-01 00:00:00 UTC ┆ Finance        ┆ 7284207         ┆ 44617       │\n",
       "│ 2025-04-01 00:00:00 UTC ┆ Weather        ┆ 617806          ┆ 9466        │\n",
       "│ 2025-06-01 00:00:00 UTC ┆ null           ┆ 4496842         ┆ 59217       │\n",
       "│ 2025-06-01 00:00:00 UTC ┆ Sports         ┆ 631305022       ┆ 1961290     │\n",
       "│ 2025-02-01 00:00:00 UTC ┆ Pop Culture    ┆ 21773942        ┆ 249450      │\n",
       "│ …                       ┆ …              ┆ …               ┆ …           │\n",
       "│ 2025-07-01 00:00:00 UTC ┆ Temperature    ┆ 12026002        ┆ 234827      │\n",
       "│ 2025-03-01 00:00:00 UTC ┆ Macroeconomics ┆ 7336357         ┆ 53383       │\n",
       "│ 2025-08-01 00:00:00 UTC ┆ Pop Culture    ┆ 4779741         ┆ 41745       │\n",
       "│ 2025-04-01 00:00:00 UTC ┆ Macroeconomics ┆ 52362968        ┆ 183280      │\n",
       "│ 2025-03-01 00:00:00 UTC ┆ US Politics    ┆ 24059972        ┆ 217679      │\n",
       "└─────────────────────────┴────────────────┴─────────────────┴─────────────┘"
      ]
     },
     "execution_count": 6,
     "metadata": {},
     "output_type": "execute_result"
    }
   ],
   "source": [
    "monthly_analysis"
   ]
  },
  {
   "cell_type": "code",
   "execution_count": 7,
   "id": "1395ee18",
   "metadata": {},
   "outputs": [],
   "source": [
    "monthly_totals = (\n",
    "    monthly_analysis\n",
    "    .group_by(\"month\")\n",
    "    .agg([\n",
    "        pl.col(\"category_volume\").sum().alias(\"month_total_volume\")\n",
    "    ])\n",
    ")"
   ]
  },
  {
   "cell_type": "code",
   "execution_count": 8,
   "id": "b578723b",
   "metadata": {},
   "outputs": [
    {
     "data": {
      "text/html": [
       "<div><style>\n",
       ".dataframe > thead > tr,\n",
       ".dataframe > tbody > tr {\n",
       "  text-align: right;\n",
       "  white-space: pre-wrap;\n",
       "}\n",
       "</style>\n",
       "<small>shape: (8, 2)</small><table border=\"1\" class=\"dataframe\"><thead><tr><th>month</th><th>month_total_volume</th></tr><tr><td>datetime[μs, UTC]</td><td>i64</td></tr></thead><tbody><tr><td>2025-03-01 00:00:00 UTC</td><td>513106674</td></tr><tr><td>2025-01-01 00:00:00 UTC</td><td>163794962</td></tr><tr><td>2025-08-01 00:00:00 UTC</td><td>252817590</td></tr><tr><td>2025-06-01 00:00:00 UTC</td><td>792124144</td></tr><tr><td>2025-04-01 00:00:00 UTC</td><td>453241714</td></tr><tr><td>2025-02-01 00:00:00 UTC</td><td>165962441</td></tr><tr><td>2025-07-01 00:00:00 UTC</td><td>740539131</td></tr><tr><td>2025-05-01 00:00:00 UTC</td><td>653881696</td></tr></tbody></table></div>"
      ],
      "text/plain": [
       "shape: (8, 2)\n",
       "┌─────────────────────────┬────────────────────┐\n",
       "│ month                   ┆ month_total_volume │\n",
       "│ ---                     ┆ ---                │\n",
       "│ datetime[μs, UTC]       ┆ i64                │\n",
       "╞═════════════════════════╪════════════════════╡\n",
       "│ 2025-03-01 00:00:00 UTC ┆ 513106674          │\n",
       "│ 2025-01-01 00:00:00 UTC ┆ 163794962          │\n",
       "│ 2025-08-01 00:00:00 UTC ┆ 252817590          │\n",
       "│ 2025-06-01 00:00:00 UTC ┆ 792124144          │\n",
       "│ 2025-04-01 00:00:00 UTC ┆ 453241714          │\n",
       "│ 2025-02-01 00:00:00 UTC ┆ 165962441          │\n",
       "│ 2025-07-01 00:00:00 UTC ┆ 740539131          │\n",
       "│ 2025-05-01 00:00:00 UTC ┆ 653881696          │\n",
       "└─────────────────────────┴────────────────────┘"
      ]
     },
     "execution_count": 8,
     "metadata": {},
     "output_type": "execute_result"
    }
   ],
   "source": [
    "monthly_totals"
   ]
  },
  {
   "cell_type": "code",
   "execution_count": 9,
   "id": "fb0a48b5",
   "metadata": {},
   "outputs": [],
   "source": [
    "monthly_volume_pct = (\n",
    "    monthly_analysis\n",
    "    .join(monthly_totals, on=\"month\")\n",
    "    .with_columns([\n",
    "        (pl.col(\"category_volume\") / pl.col(\"month_total_volume\") * 100)\n",
    "        .round(2)\n",
    "        .alias(\"volume_percentage\")\n",
    "    ])\n",
    "    .select([\n",
    "        \"month\", \n",
    "        \"category\", \n",
    "        \"category_volume\", \n",
    "        \"volume_percentage\",\n",
    "        \"trade_count\",\n",
    "        \"month_total_volume\"\n",
    "    ])\n",
    "    .sort([\"month\", \"category\"])\n",
    ")"
   ]
  },
  {
   "cell_type": "code",
   "execution_count": 10,
   "id": "c2b9b191",
   "metadata": {},
   "outputs": [
    {
     "data": {
      "text/html": [
       "<div><style>\n",
       ".dataframe > thead > tr,\n",
       ".dataframe > tbody > tr {\n",
       "  text-align: right;\n",
       "  white-space: pre-wrap;\n",
       "}\n",
       "</style>\n",
       "<small>shape: (80, 6)</small><table border=\"1\" class=\"dataframe\"><thead><tr><th>month</th><th>category</th><th>category_volume</th><th>volume_percentage</th><th>trade_count</th><th>month_total_volume</th></tr><tr><td>datetime[μs, UTC]</td><td>str</td><td>i64</td><td>f64</td><td>u32</td><td>i64</td></tr></thead><tbody><tr><td>2025-01-01 00:00:00 UTC</td><td>null</td><td>11995749</td><td>7.32</td><td>80623</td><td>163794962</td></tr><tr><td>2025-01-01 00:00:00 UTC</td><td>&quot;Crypto&quot;</td><td>29386592</td><td>17.94</td><td>401451</td><td>163794962</td></tr><tr><td>2025-01-01 00:00:00 UTC</td><td>&quot;Finance&quot;</td><td>5048518</td><td>3.08</td><td>24608</td><td>163794962</td></tr><tr><td>2025-01-01 00:00:00 UTC</td><td>&quot;Global Politics&quot;</td><td>2001419</td><td>1.22</td><td>13341</td><td>163794962</td></tr><tr><td>2025-01-01 00:00:00 UTC</td><td>&quot;Macroeconomics&quot;</td><td>3781036</td><td>2.31</td><td>16395</td><td>163794962</td></tr><tr><td>&hellip;</td><td>&hellip;</td><td>&hellip;</td><td>&hellip;</td><td>&hellip;</td><td>&hellip;</td></tr><tr><td>2025-08-01 00:00:00 UTC</td><td>&quot;Pop Culture&quot;</td><td>4779741</td><td>1.89</td><td>41745</td><td>252817590</td></tr><tr><td>2025-08-01 00:00:00 UTC</td><td>&quot;Sports&quot;</td><td>169495856</td><td>67.04</td><td>747358</td><td>252817590</td></tr><tr><td>2025-08-01 00:00:00 UTC</td><td>&quot;Temperature&quot;</td><td>4955938</td><td>1.96</td><td>81782</td><td>252817590</td></tr><tr><td>2025-08-01 00:00:00 UTC</td><td>&quot;US Politics&quot;</td><td>7210846</td><td>2.85</td><td>45569</td><td>252817590</td></tr><tr><td>2025-08-01 00:00:00 UTC</td><td>&quot;Weather&quot;</td><td>432425</td><td>0.17</td><td>4786</td><td>252817590</td></tr></tbody></table></div>"
      ],
      "text/plain": [
       "shape: (80, 6)\n",
       "┌────────────────┬────────────────┬────────────────┬────────────────┬─────────────┬────────────────┐\n",
       "│ month          ┆ category       ┆ category_volum ┆ volume_percent ┆ trade_count ┆ month_total_vo │\n",
       "│ ---            ┆ ---            ┆ e              ┆ age            ┆ ---         ┆ lume           │\n",
       "│ datetime[μs,   ┆ str            ┆ ---            ┆ ---            ┆ u32         ┆ ---            │\n",
       "│ UTC]           ┆                ┆ i64            ┆ f64            ┆             ┆ i64            │\n",
       "╞════════════════╪════════════════╪════════════════╪════════════════╪═════════════╪════════════════╡\n",
       "│ 2025-01-01     ┆ null           ┆ 11995749       ┆ 7.32           ┆ 80623       ┆ 163794962      │\n",
       "│ 00:00:00 UTC   ┆                ┆                ┆                ┆             ┆                │\n",
       "│ 2025-01-01     ┆ Crypto         ┆ 29386592       ┆ 17.94          ┆ 401451      ┆ 163794962      │\n",
       "│ 00:00:00 UTC   ┆                ┆                ┆                ┆             ┆                │\n",
       "│ 2025-01-01     ┆ Finance        ┆ 5048518        ┆ 3.08           ┆ 24608       ┆ 163794962      │\n",
       "│ 00:00:00 UTC   ┆                ┆                ┆                ┆             ┆                │\n",
       "│ 2025-01-01     ┆ Global         ┆ 2001419        ┆ 1.22           ┆ 13341       ┆ 163794962      │\n",
       "│ 00:00:00 UTC   ┆ Politics       ┆                ┆                ┆             ┆                │\n",
       "│ 2025-01-01     ┆ Macroeconomics ┆ 3781036        ┆ 2.31           ┆ 16395       ┆ 163794962      │\n",
       "│ 00:00:00 UTC   ┆                ┆                ┆                ┆             ┆                │\n",
       "│ …              ┆ …              ┆ …              ┆ …              ┆ …           ┆ …              │\n",
       "│ 2025-08-01     ┆ Pop Culture    ┆ 4779741        ┆ 1.89           ┆ 41745       ┆ 252817590      │\n",
       "│ 00:00:00 UTC   ┆                ┆                ┆                ┆             ┆                │\n",
       "│ 2025-08-01     ┆ Sports         ┆ 169495856      ┆ 67.04          ┆ 747358      ┆ 252817590      │\n",
       "│ 00:00:00 UTC   ┆                ┆                ┆                ┆             ┆                │\n",
       "│ 2025-08-01     ┆ Temperature    ┆ 4955938        ┆ 1.96           ┆ 81782       ┆ 252817590      │\n",
       "│ 00:00:00 UTC   ┆                ┆                ┆                ┆             ┆                │\n",
       "│ 2025-08-01     ┆ US Politics    ┆ 7210846        ┆ 2.85           ┆ 45569       ┆ 252817590      │\n",
       "│ 00:00:00 UTC   ┆                ┆                ┆                ┆             ┆                │\n",
       "│ 2025-08-01     ┆ Weather        ┆ 432425         ┆ 0.17           ┆ 4786        ┆ 252817590      │\n",
       "│ 00:00:00 UTC   ┆                ┆                ┆                ┆             ┆                │\n",
       "└────────────────┴────────────────┴────────────────┴────────────────┴─────────────┴────────────────┘"
      ]
     },
     "execution_count": 10,
     "metadata": {},
     "output_type": "execute_result"
    }
   ],
   "source": [
    "monthly_volume_pct"
   ]
  },
  {
   "cell_type": "code",
   "execution_count": 11,
   "id": "87ef79cd",
   "metadata": {},
   "outputs": [
    {
     "name": "stderr",
     "output_type": "stream",
     "text": [
      "/var/folders/09/fwj9ml5j17z0dlwbz1b4vwph0000gn/T/ipykernel_39158/2894943215.py:2: DeprecationWarning: the argument `columns` for `DataFrame.pivot` is deprecated. It was renamed to `on` in version 1.0.0.\n",
      "  monthly_volume_pct\n"
     ]
    }
   ],
   "source": [
    "volume_pct_pivot = (\n",
    "    monthly_volume_pct\n",
    "    .select([\"month\", \"category\", \"volume_percentage\"])\n",
    "    .pivot(\n",
    "        values=\"volume_percentage\", \n",
    "        index=\"month\", \n",
    "        columns=\"category\"\n",
    "    )\n",
    "    .fill_null(0)\n",
    ")"
   ]
  },
  {
   "cell_type": "code",
   "execution_count": null,
   "id": "83c41ca6",
   "metadata": {},
   "outputs": [],
   "source": [
    "data = volume_pct_pivot.to_pandas()\n",
    "data = data.rename(columns={'null': 'Uncategorized'})\n",
    "data = data[:-1]"
   ]
  },
  {
   "cell_type": "code",
   "execution_count": null,
   "id": "f9fc4bf0",
   "metadata": {},
   "outputs": [],
   "source": []
  },
  {
   "cell_type": "code",
   "execution_count": null,
   "id": "b8791599",
   "metadata": {},
   "outputs": [],
   "source": []
  },
  {
   "cell_type": "code",
   "execution_count": null,
   "id": "fba34083",
   "metadata": {},
   "outputs": [],
   "source": []
  }
 ],
 "metadata": {
  "kernelspec": {
   "display_name": "Python 3",
   "language": "python",
   "name": "python3"
  },
  "language_info": {
   "codemirror_mode": {
    "name": "ipython",
    "version": 3
   },
   "file_extension": ".py",
   "mimetype": "text/x-python",
   "name": "python",
   "nbconvert_exporter": "python",
   "pygments_lexer": "ipython3",
   "version": "3.9.6"
  }
 },
 "nbformat": 4,
 "nbformat_minor": 5
}
