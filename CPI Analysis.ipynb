{
 "cells": [
  {
   "cell_type": "code",
   "execution_count": 26,
   "id": "8109341b",
   "metadata": {},
   "outputs": [],
   "source": [
    "import pandas as pd\n",
    "import re\n",
    "from datetime import datetime, timedelta\n",
    "import numpy as np \n",
    "\n",
    "import warnings\n",
    "warnings.filterwarnings('ignore')"
   ]
  },
  {
   "cell_type": "code",
   "execution_count": 27,
   "id": "e44407d6",
   "metadata": {},
   "outputs": [],
   "source": [
    "df = pd.read_csv('data/df_with_category.csv')"
   ]
  },
  {
   "cell_type": "code",
   "execution_count": 28,
   "id": "0eecbd53",
   "metadata": {},
   "outputs": [],
   "source": [
    "cpi_tickers = df[df['ticker_name'].str.contains('CPI')].copy()"
   ]
  },
  {
   "cell_type": "code",
   "execution_count": 29,
   "id": "1240a3ab",
   "metadata": {},
   "outputs": [],
   "source": [
    "cpi_tickers['create_ts'] = pd.to_datetime(cpi_tickers['create_ts'], utc=True).dt.tz_localize(None)"
   ]
  },
  {
   "cell_type": "code",
   "execution_count": 30,
   "id": "2032bbf2",
   "metadata": {},
   "outputs": [],
   "source": [
    "cpi_tickers['category'] = cpi_tickers['ticker_name'].str.split('-').str[0]\n",
    "cpi_tickers['month'] = cpi_tickers['ticker_name'].str.split('-').str[1]\n",
    "cpi_tickers['inflation'] = cpi_tickers['ticker_name'].str.split('-').str[2]"
   ]
  },
  {
   "cell_type": "code",
   "execution_count": 31,
   "id": "eed6998a",
   "metadata": {},
   "outputs": [],
   "source": [
    "CPI_REFERENCE = {\n",
    "    '24OCT': '2024-11-13',\n",
    "    '24NOV': '2024-12-11', \n",
    "    '24DEC': '2025-01-15',\n",
    "    '25JAN': '2025-02-12',\n",
    "    '25FEB': '2025-03-12',\n",
    "    '25MAR': '2025-04-10',\n",
    "    '25APR': '2025-05-13',\n",
    "    '25MAY': '2025-06-11',\n",
    "    '25JUN': '2025-07-15',\n",
    "    '25JUL': '2025-08-12',\n",
    "}"
   ]
  },
  {
   "cell_type": "code",
   "execution_count": 32,
   "id": "39b59084",
   "metadata": {},
   "outputs": [],
   "source": [
    "cpi_tickers['release_date'] = pd.to_datetime(cpi_tickers['month'].map(CPI_REFERENCE))\n"
   ]
  },
  {
   "cell_type": "code",
   "execution_count": 33,
   "id": "fd1b18a5",
   "metadata": {},
   "outputs": [],
   "source": [
    "cpi_tickers.dropna(subset=['release_date'], inplace=True)"
   ]
  },
  {
   "cell_type": "code",
   "execution_count": 34,
   "id": "c1e39d9c",
   "metadata": {},
   "outputs": [
    {
     "data": {
      "text/html": [
       "<div>\n",
       "<style scoped>\n",
       "    .dataframe tbody tr th:only-of-type {\n",
       "        vertical-align: middle;\n",
       "    }\n",
       "\n",
       "    .dataframe tbody tr th {\n",
       "        vertical-align: top;\n",
       "    }\n",
       "\n",
       "    .dataframe thead th {\n",
       "        text-align: right;\n",
       "    }\n",
       "</style>\n",
       "<table border=\"1\" class=\"dataframe\">\n",
       "  <thead>\n",
       "    <tr style=\"text-align: right;\">\n",
       "      <th></th>\n",
       "      <th>create_ts</th>\n",
       "      <th>ticker_name</th>\n",
       "      <th>contracts_traded</th>\n",
       "      <th>price</th>\n",
       "      <th>category</th>\n",
       "      <th>month</th>\n",
       "      <th>inflation</th>\n",
       "      <th>release_date</th>\n",
       "    </tr>\n",
       "  </thead>\n",
       "  <tbody>\n",
       "    <tr>\n",
       "      <th>306968</th>\n",
       "      <td>2024-10-10 20:48:52</td>\n",
       "      <td>CPIAPPAREL-24OCT-T0.5</td>\n",
       "      <td>150</td>\n",
       "      <td>21</td>\n",
       "      <td>CPIAPPAREL</td>\n",
       "      <td>24OCT</td>\n",
       "      <td>T0.5</td>\n",
       "      <td>2024-11-13</td>\n",
       "    </tr>\n",
       "    <tr>\n",
       "      <th>306969</th>\n",
       "      <td>2024-10-10 20:48:52</td>\n",
       "      <td>CPIAPPAREL-24OCT-T1.1</td>\n",
       "      <td>150</td>\n",
       "      <td>56</td>\n",
       "      <td>CPIAPPAREL</td>\n",
       "      <td>24OCT</td>\n",
       "      <td>T1.1</td>\n",
       "      <td>2024-11-13</td>\n",
       "    </tr>\n",
       "    <tr>\n",
       "      <th>306970</th>\n",
       "      <td>2024-10-10 20:48:52</td>\n",
       "      <td>CPIAPPAREL-24OCT-T1.1</td>\n",
       "      <td>16</td>\n",
       "      <td>56</td>\n",
       "      <td>CPIAPPAREL</td>\n",
       "      <td>24OCT</td>\n",
       "      <td>T1.1</td>\n",
       "      <td>2024-11-13</td>\n",
       "    </tr>\n",
       "    <tr>\n",
       "      <th>306971</th>\n",
       "      <td>2024-10-10 20:48:52</td>\n",
       "      <td>CPIAPPAREL-24OCT-T0.5</td>\n",
       "      <td>16</td>\n",
       "      <td>20</td>\n",
       "      <td>CPIAPPAREL</td>\n",
       "      <td>24OCT</td>\n",
       "      <td>T0.5</td>\n",
       "      <td>2024-11-13</td>\n",
       "    </tr>\n",
       "    <tr>\n",
       "      <th>306972</th>\n",
       "      <td>2024-10-10 20:48:52</td>\n",
       "      <td>CPIAPPAREL-24OCT-T0.2</td>\n",
       "      <td>33</td>\n",
       "      <td>44</td>\n",
       "      <td>CPIAPPAREL</td>\n",
       "      <td>24OCT</td>\n",
       "      <td>T0.2</td>\n",
       "      <td>2024-11-13</td>\n",
       "    </tr>\n",
       "    <tr>\n",
       "      <th>...</th>\n",
       "      <td>...</td>\n",
       "      <td>...</td>\n",
       "      <td>...</td>\n",
       "      <td>...</td>\n",
       "      <td>...</td>\n",
       "      <td>...</td>\n",
       "      <td>...</td>\n",
       "      <td>...</td>\n",
       "    </tr>\n",
       "    <tr>\n",
       "      <th>22689873</th>\n",
       "      <td>2025-08-12 04:00:24</td>\n",
       "      <td>KXCPI-25JUL-T0.3</td>\n",
       "      <td>2276</td>\n",
       "      <td>15</td>\n",
       "      <td>KXCPI</td>\n",
       "      <td>25JUL</td>\n",
       "      <td>T0.3</td>\n",
       "      <td>2025-08-12</td>\n",
       "    </tr>\n",
       "    <tr>\n",
       "      <th>22689874</th>\n",
       "      <td>2025-08-12 04:00:24</td>\n",
       "      <td>KXCPI-25JUL-T0.3</td>\n",
       "      <td>200</td>\n",
       "      <td>12</td>\n",
       "      <td>KXCPI</td>\n",
       "      <td>25JUL</td>\n",
       "      <td>T0.3</td>\n",
       "      <td>2025-08-12</td>\n",
       "    </tr>\n",
       "    <tr>\n",
       "      <th>22689875</th>\n",
       "      <td>2025-08-12 04:00:23</td>\n",
       "      <td>KXCPI-25JUL-T0.2</td>\n",
       "      <td>2000</td>\n",
       "      <td>53</td>\n",
       "      <td>KXCPI</td>\n",
       "      <td>25JUL</td>\n",
       "      <td>T0.2</td>\n",
       "      <td>2025-08-12</td>\n",
       "    </tr>\n",
       "    <tr>\n",
       "      <th>22689877</th>\n",
       "      <td>2025-08-12 04:00:22</td>\n",
       "      <td>KXCPI-25JUL-T0.2</td>\n",
       "      <td>50</td>\n",
       "      <td>53</td>\n",
       "      <td>KXCPI</td>\n",
       "      <td>25JUL</td>\n",
       "      <td>T0.2</td>\n",
       "      <td>2025-08-12</td>\n",
       "    </tr>\n",
       "    <tr>\n",
       "      <th>22689901</th>\n",
       "      <td>2025-08-12 04:00:01</td>\n",
       "      <td>KXCPI-25JUL-T0.2</td>\n",
       "      <td>163</td>\n",
       "      <td>52</td>\n",
       "      <td>KXCPI</td>\n",
       "      <td>25JUL</td>\n",
       "      <td>T0.2</td>\n",
       "      <td>2025-08-12</td>\n",
       "    </tr>\n",
       "  </tbody>\n",
       "</table>\n",
       "<p>122763 rows × 8 columns</p>\n",
       "</div>"
      ],
      "text/plain": [
       "                   create_ts            ticker_name  contracts_traded  price  \\\n",
       "306968   2024-10-10 20:48:52  CPIAPPAREL-24OCT-T0.5               150     21   \n",
       "306969   2024-10-10 20:48:52  CPIAPPAREL-24OCT-T1.1               150     56   \n",
       "306970   2024-10-10 20:48:52  CPIAPPAREL-24OCT-T1.1                16     56   \n",
       "306971   2024-10-10 20:48:52  CPIAPPAREL-24OCT-T0.5                16     20   \n",
       "306972   2024-10-10 20:48:52  CPIAPPAREL-24OCT-T0.2                33     44   \n",
       "...                      ...                    ...               ...    ...   \n",
       "22689873 2025-08-12 04:00:24       KXCPI-25JUL-T0.3              2276     15   \n",
       "22689874 2025-08-12 04:00:24       KXCPI-25JUL-T0.3               200     12   \n",
       "22689875 2025-08-12 04:00:23       KXCPI-25JUL-T0.2              2000     53   \n",
       "22689877 2025-08-12 04:00:22       KXCPI-25JUL-T0.2                50     53   \n",
       "22689901 2025-08-12 04:00:01       KXCPI-25JUL-T0.2               163     52   \n",
       "\n",
       "            category  month inflation release_date  \n",
       "306968    CPIAPPAREL  24OCT      T0.5   2024-11-13  \n",
       "306969    CPIAPPAREL  24OCT      T1.1   2024-11-13  \n",
       "306970    CPIAPPAREL  24OCT      T1.1   2024-11-13  \n",
       "306971    CPIAPPAREL  24OCT      T0.5   2024-11-13  \n",
       "306972    CPIAPPAREL  24OCT      T0.2   2024-11-13  \n",
       "...              ...    ...       ...          ...  \n",
       "22689873       KXCPI  25JUL      T0.3   2025-08-12  \n",
       "22689874       KXCPI  25JUL      T0.3   2025-08-12  \n",
       "22689875       KXCPI  25JUL      T0.2   2025-08-12  \n",
       "22689877       KXCPI  25JUL      T0.2   2025-08-12  \n",
       "22689901       KXCPI  25JUL      T0.2   2025-08-12  \n",
       "\n",
       "[122763 rows x 8 columns]"
      ]
     },
     "execution_count": 34,
     "metadata": {},
     "output_type": "execute_result"
    }
   ],
   "source": [
    "cpi_tickers"
   ]
  },
  {
   "cell_type": "code",
   "execution_count": 35,
   "id": "5dea9fc9",
   "metadata": {},
   "outputs": [
    {
     "data": {
      "text/plain": [
       "category\n",
       "KXCPIYOY        19369478\n",
       "KXCPI            7386065\n",
       "KXCPICORE         718884\n",
       "KXCPICOREYOY      473188\n",
       "KXCPIGAS          105477\n",
       "KXCPISHELTER       42837\n",
       "KXCPIAPPAREL       35576\n",
       "KXCPIUSEDCAR       26022\n",
       "KXCPIFOOD          25959\n",
       "CPIYOY             19880\n",
       "CPI                12235\n",
       "CPICOREYOY          8021\n",
       "CPIGAS              4826\n",
       "CPIAPPAREL          4662\n",
       "CPICORE             4428\n",
       "KXCPIYOYBANK        3071\n",
       "CPIFOOD             1212\n",
       "CPISHELTER            61\n",
       "CPIUSEDCAR            47\n",
       "Name: contracts_traded, dtype: int64"
      ]
     },
     "execution_count": 35,
     "metadata": {},
     "output_type": "execute_result"
    }
   ],
   "source": [
    "cpi_tickers.groupby('category')['contracts_traded'].sum().sort_values(ascending=False)"
   ]
  },
  {
   "cell_type": "code",
   "execution_count": 36,
   "id": "4b633670",
   "metadata": {},
   "outputs": [],
   "source": [
    "cpi_sel = cpi_tickers[cpi_tickers['category'] == 'KXCPIYOY'].copy()"
   ]
  },
  {
   "cell_type": "code",
   "execution_count": 37,
   "id": "32dd0c37",
   "metadata": {},
   "outputs": [],
   "source": [
    "cpi_sel['threshold'] = cpi_sel['inflation'].str[1:].astype(float)\n"
   ]
  },
  {
   "cell_type": "code",
   "execution_count": 38,
   "id": "2904d526",
   "metadata": {},
   "outputs": [],
   "source": [
    "cpi_sel['before_release'] = cpi_sel['release_date'] - pd.Timedelta(days=1)\n"
   ]
  },
  {
   "cell_type": "code",
   "execution_count": 66,
   "id": "61293f47",
   "metadata": {},
   "outputs": [],
   "source": [
    "def get_monthly_predictions(curr_month, days=1):\n",
    "    curr_month['before_release'] = curr_month['release_date'] - pd.Timedelta(days=days)\n",
    "    last_day = curr_month[curr_month['create_ts'].dt.date == curr_month['before_release']]\n",
    "    final_vals = last_day.groupby('ticker_name').last()\n",
    "\n",
    "    ret = {}\n",
    "    ret['release_date'] = curr_month['release_date'].iloc[0]\n",
    "    ret['before_release'] = curr_month['before_release'].iloc[0]\n",
    "\n",
    "    \n",
    "    highest_prob = final_vals[final_vals['price'] > 50].iloc[-1]\n",
    "    lowest_prob = final_vals[final_vals['price'] < 50].iloc[0]\n",
    "\n",
    "    ret['highest_prob'] = highest_prob['threshold']\n",
    "    ret['lowest_prob'] = lowest_prob['threshold']\n",
    "    ret['highest_prob_price'] = highest_prob['price']\n",
    "    ret['lowest_prob_price'] = lowest_prob['price']\n",
    "\n",
    "    return pd.Series(ret)\n",
    "\n",
    "monthly_results = cpi_sel.groupby('month').apply(get_monthly_predictions, days=1)"
   ]
  },
  {
   "cell_type": "code",
   "execution_count": 69,
   "id": "4f037322",
   "metadata": {},
   "outputs": [],
   "source": [
    "monthly_results = monthly_results.reset_index()"
   ]
  },
  {
   "cell_type": "code",
   "execution_count": 74,
   "id": "f9c31819",
   "metadata": {},
   "outputs": [],
   "source": [
    "monthly_results['month'] = pd.to_datetime(monthly_results['month'], format='%y%b')"
   ]
  },
  {
   "cell_type": "code",
   "execution_count": null,
   "id": "bb065107",
   "metadata": {},
   "outputs": [],
   "source": []
  },
  {
   "cell_type": "code",
   "execution_count": 51,
   "id": "17bb02c0",
   "metadata": {},
   "outputs": [],
   "source": [
    "lowest_prob = final_vals[final_vals['price'] < 50].iloc[0]"
   ]
  },
  {
   "cell_type": "code",
   "execution_count": 53,
   "id": "f5875c1c",
   "metadata": {},
   "outputs": [
    {
     "data": {
      "text/plain": [
       "2.7"
      ]
     },
     "execution_count": 53,
     "metadata": {},
     "output_type": "execute_result"
    }
   ],
   "source": [
    "highest_prob['threshold']"
   ]
  },
  {
   "cell_type": "code",
   "execution_count": 57,
   "id": "a5ef4fe1",
   "metadata": {},
   "outputs": [
    {
     "data": {
      "text/plain": [
       "65"
      ]
     },
     "execution_count": 57,
     "metadata": {},
     "output_type": "execute_result"
    }
   ],
   "source": [
    "highest_prob['price']"
   ]
  },
  {
   "cell_type": "code",
   "execution_count": 55,
   "id": "870dcb1d",
   "metadata": {},
   "outputs": [
    {
     "data": {
      "text/plain": [
       "2.8"
      ]
     },
     "execution_count": 55,
     "metadata": {},
     "output_type": "execute_result"
    }
   ],
   "source": [
    "lowest_prob['threshold']"
   ]
  },
  {
   "cell_type": "code",
   "execution_count": 58,
   "id": "ae191d61",
   "metadata": {},
   "outputs": [
    {
     "data": {
      "text/plain": [
       "19"
      ]
     },
     "execution_count": 58,
     "metadata": {},
     "output_type": "execute_result"
    }
   ],
   "source": [
    "lowest_prob['price']"
   ]
  },
  {
   "cell_type": "code",
   "execution_count": null,
   "id": "60c0cb16",
   "metadata": {},
   "outputs": [],
   "source": []
  }
 ],
 "metadata": {
  "kernelspec": {
   "display_name": "Python 3",
   "language": "python",
   "name": "python3"
  },
  "language_info": {
   "codemirror_mode": {
    "name": "ipython",
    "version": 3
   },
   "file_extension": ".py",
   "mimetype": "text/x-python",
   "name": "python",
   "nbconvert_exporter": "python",
   "pygments_lexer": "ipython3",
   "version": "3.9.6"
  }
 },
 "nbformat": 4,
 "nbformat_minor": 5
}
